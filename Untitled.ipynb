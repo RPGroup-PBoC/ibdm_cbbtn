{
 "cells": [
  {
   "cell_type": "markdown",
   "metadata": {},
   "source": [
    "# Spreading Cell Division Butter "
   ]
  },
  {
   "cell_type": "code",
   "execution_count": 1,
   "metadata": {},
   "outputs": [],
   "source": [
    "import numpy as np\n",
    "import matplotlib.pyplot as plt\n",
    "import scipy.linalg\n",
    "import seaborn as sns\n",
    "sns.set_context('talk')\n",
    "sns.set()\n",
    "%matplotlib inline"
   ]
  },
  {
   "cell_type": "markdown",
   "metadata": {},
   "source": [
    "Let $\\nu_t$, $e_t$, and $f_t$ be the number of verticies, edges, and faces after cell division $t$. Assuming uniform cell division times, The total number of faces (cells) will double with each cell division, \n",
    "$$\n",
    "f_t = 2 f_{t - 1}\n",
    "$$\n",
    "\n",
    "Each cell division results in two new vertices and three edges, the number of vertices at time t is\n",
    "\n",
    "$$\n",
    "\\nu_t = \\nu_{t -1} + 2  f_{t - 1}\n",
    "$$\n",
    "\n",
    "and the number of edges is\n",
    "\n",
    "$$\n",
    "e_t = e_{t -1} + 3 f_{t - 1}\n",
    "$$\n",
    "\n",
    "Neglecting boundary conditions inthe long time limit, the average number of sides $s$ at division $t$\n",
    "\n",
    "$$\n",
    "s_t = {2(e_{t -1} + 3 f_{t-1}) \\over 2 f_{t-1}} = {s_{t-1} \\over 2} + 3\n",
    "$$\n",
    "\n",
    "The recurrence system is sovable for the state of the epithelian network as a function of the initial network at time $t = 0$ as\n",
    "\n",
    "$$\n",
    "s_t = 6 + 2^{-t}(s_0 - 6)\n",
    "$$\n",
    "\n",
    "This shows that the average number of cell sides exponetially approaches six, consistent iwth Euler's theorem. \n",
    "\n",
    "This can be modeled using a discrete markov process. The state of a cell $s$  can be defined as its number of sides, which is greater than 3 (no triangular cells). The probability of an $s$ sided cell $p_{s}$ at generation $t$ can be described by an infinite row vector \n",
    "\n",
    "$$\n",
    "\\vec{p}^{(t)} = [p_4, p_5, p_6, p_7, p_8, p_9, \\dots]\n",
    "$$\n",
    "\n",
    "The state dynamics can be described as \n",
    "\n",
    "$$\n",
    "\\vec{p}^{(t + 1)} = \\vec{p}^{(t)} \\mathbf{PS}\n",
    "$$\n",
    "\n",
    "where P and S are probabalistic transition matrices. The entry $\\mathbf{P}_{i,j}$ describes the probability of cell with $i$ sides will become a cell with $j$ sides after cell division. The shift matrix $\\mathbf{S}$ comes from a topological argument that cells will, on average, **gain** one side from the division of neighboring cells. THe shift matrix is therefore defined only on the diagonal with $0$ and $1$. \n",
    "\n",
    "Therefore, given a distribution of polygonal cell types $\\vec{p}^{(t)}$,we can compute the new distribution after a single round of division.\n"
   ]
  },
  {
   "cell_type": "code",
   "execution_count": 45,
   "metadata": {},
   "outputs": [],
   "source": [
    "# Define the parameters\n",
    "n_sides = 10 \n",
    "n_gen = 50 \n",
    "\n",
    "# Set up the transition matrix and normalize. \n",
    "P = scipy.linalg.pascal(n_sides, kind='lower', exact=False)\n",
    "S = np.zeros_like(P)\n",
    "for i in range(n_sides - 1):\n",
    "    S[i, i+1] = 1\n",
    "for i in range(n_sides):\n",
    "    P[i, :] = (P[i, :] + S[i, :]) / np.sum(P[i, :])\n",
    "\n",
    "    \n",
    "# Define the probability and the intial condition.\n",
    "prob = np.zeros((n_sides, n_gen))\n",
    "\n",
    "# Set the initial condition. \n",
    "prob[0, 0] = 1.0"
   ]
  },
  {
   "cell_type": "code",
   "execution_count": 54,
   "metadata": {},
   "outputs": [
    {
     "data": {
      "text/plain": [
       "<matplotlib.image.AxesImage at 0x1a19b94e10>"
      ]
     },
     "execution_count": 54,
     "metadata": {},
     "output_type": "execute_result"
    },
    {
     "data": {
      "image/png": "[encoded data removed]",
      "text/plain": [
       "<Figure size 288x288 with 1 Axes>"
      ]
     },
     "metadata": {
      "needs_background": "light"
     },
     "output_type": "display_data"
    }
   ],
   "source": [
    "plt.matshow(S)"
   ]
  },
  {
   "cell_type": "code",
   "execution_count": 52,
   "metadata": {},
   "outputs": [],
   "source": [
    "for t in range(1, n_gen):       \n",
    "    for i in range(1, n_sides - 1):\n",
    "        for j in range(1, n_sides, -1):\n",
    "            # Compute the probability of getting a vertex \n",
    "            prob[i, t] = prob[i, t-1] + prob[i-1, t-1] * P[i, i-1] + prob[i+1, t-1] * P[i, i+1] - prob[i, t-1] * (P[i-1, i] + P[i+1, i])\n",
    "\n",
    "        \n",
    "    "
   ]
  },
  {
   "cell_type": "code",
   "execution_count": 53,
   "metadata": {},
   "outputs": [
    {
     "data": {
      "text/plain": [
       "<matplotlib.image.AxesImage at 0x1a19a08eb8>"
      ]
     },
     "execution_count": 53,
     "metadata": {},
     "output_type": "execute_result"
    },
    {
     "data": {
      "image/png": "[encoded data removed]",
      "text/plain": [
       "<Figure size 1152x230.4 with 1 Axes>"
      ]
     },
     "metadata": {
      "needs_background": "light"
     },
     "output_type": "display_data"
    }
   ],
   "source": [
    "plt.matshow(prob)"
   ]
  },
  {
   "cell_type": "code",
   "execution_count": 30,
   "metadata": {},
   "outputs": [
    {
     "data": {
      "text/plain": [
       "array([0.00000000e+00, 1.95312500e-03, 3.87536287e-02, 1.72359109e-01,\n",
       "       2.04232508e-01, 7.37154332e-02, 8.65144570e-03, 3.30914099e-04,\n",
       "       3.82637154e-06, 0.00000000e+00])"
      ]
     },
     "execution_count": 30,
     "metadata": {},
     "output_type": "execute_result"
    }
   ],
   "source": [
    "prob[:, -1]"
   ]
  },
  {
   "cell_type": "code",
   "execution_count": 158,
   "metadata": {},
   "outputs": [
    {
     "data": {
      "text/plain": [
       "array([[           inf,            inf,            inf,            inf,\n",
       "                   inf,            inf,            inf],\n",
       "       [           inf,            inf,            inf,            inf,\n",
       "                   inf,            inf,            inf],\n",
       "       [2.00000000e+00, 6.00000000e+00, 1.20000000e+01, 2.20000000e+01,\n",
       "        3.00000000e+01, 4.20000000e+01, 5.60000000e+01],\n",
       "       [4.00000000e-01, 1.60000000e+00, 4.00000000e+00, 8.00000000e+00,\n",
       "        1.44000000e+01, 2.24000000e+01, 3.36000000e+01],\n",
       "       [3.33333333e-01, 1.66666667e+00, 5.00000000e+00, 1.16666667e+01,\n",
       "        2.33333333e+01, 4.23333333e+01, 7.00000000e+01],\n",
       "       [2.85714286e-01, 1.71428571e+00, 6.00000000e+00, 1.60000000e+01,\n",
       "        3.60000000e+01, 7.20000000e+01, 1.32285714e+02],\n",
       "       [5.55555556e-02, 3.88888889e-01, 1.55555556e+00, 4.66666667e+00,\n",
       "        1.16666667e+01, 2.56666667e+01, 5.13333333e+01]])"
      ]
     },
     "execution_count": 158,
     "metadata": {},
     "output_type": "execute_result"
    }
   ],
   "source": [
    "P"
   ]
  },
  {
   "cell_type": "code",
   "execution_count": 134,
   "metadata": {},
   "outputs": [
    {
     "data": {
      "text/plain": [
       "array([0.        , 0.28571429, 0.        , 0.        , 0.        ,\n",
       "       0.        , 0.        ])"
      ]
     },
     "execution_count": 134,
     "metadata": {},
     "output_type": "execute_result"
    }
   ],
   "source": []
  },
  {
   "cell_type": "code",
   "execution_count": null,
   "metadata": {},
   "outputs": [],
   "source": []
  }
 ],
 "metadata": {
  "kernelspec": {
   "display_name": "Python 3",
   "language": "python",
   "name": "python3"
  },
  "language_info": {
   "codemirror_mode": {
    "name": "ipython",
    "version": 3
   },
   "file_extension": ".py",
   "mimetype": "text/x-python",
   "name": "python",
   "nbconvert_exporter": "python",
   "pygments_lexer": "ipython3",
   "version": "3.6.6"
  }
 },
 "nbformat": 4,
 "nbformat_minor": 2
}
