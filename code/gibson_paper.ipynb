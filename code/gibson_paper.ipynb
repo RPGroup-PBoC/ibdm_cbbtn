{
 "cells": [
  {
   "cell_type": "markdown",
   "metadata": {},
   "source": [
    "# Spreading Cell Division Butter "
   ]
  },
  {
   "cell_type": "code",
   "execution_count": 1,
   "metadata": {},
   "outputs": [],
   "source": [
    "import numpy as np\n",
    "import matplotlib.pyplot as plt\n",
    "import scipy.linalg\n",
    "import seaborn as sns\n",
    "import cbbtn_utilities as cb\n",
    "sns.set_context('talk')\n",
    "sns.set()\n",
    "%matplotlib inline"
   ]
  },
  {
   "cell_type": "markdown",
   "metadata": {},
   "source": [
    "Let $\\nu_t$, $e_t$, and $f_t$ be the number of verticies, edges, and faces after cell division $t$. Assuming uniform cell division times, The total number of faces (cells) will double with each cell division, \n",
    "$$\n",
    "f_t = 2 f_{t - 1}\n",
    "$$\n",
    "\n",
    "Each cell division results in two new vertices and three edges, the number of vertices at time t is\n",
    "\n",
    "$$\n",
    "\\nu_t = \\nu_{t -1} + 2  f_{t - 1}\n",
    "$$\n",
    "\n",
    "and the number of edges is\n",
    "\n",
    "$$\n",
    "e_t = e_{t -1} + 3 f_{t - 1}\n",
    "$$\n",
    "\n",
    "Neglecting boundary conditions inthe long time limit, the average number of sides $s$ at division $t$\n",
    "\n",
    "$$\n",
    "s_t = {2(e_{t -1} + 3 f_{t-1}) \\over 2 f_{t-1}} = {s_{t-1} \\over 2} + 3\n",
    "$$\n",
    "\n",
    "The recurrence system is sovable for the state of the epithelian network as a function of the initial network at time $t = 0$ as\n",
    "\n",
    "$$\n",
    "s_t = 6 + 2^{-t}(s_0 - 6)\n",
    "$$\n",
    "\n",
    "This shows that the average number of cell sides exponetially approaches six, consistent iwth Euler's theorem. \n",
    "\n",
    "This can be modeled using a discrete markov process. The state of a cell $s$  can be defined as its number of sides, which is greater than 3 (no triangular cells). The probability of an $s$ sided cell $p_{s}$ at generation $t$ can be described by an infinite row vector \n",
    "\n",
    "$$\n",
    "\\vec{p}^{(t)} = [p_4, p_5, p_6, p_7, p_8, p_9, \\dots]\n",
    "$$\n",
    "\n",
    "The state dynamics can be described as \n",
    "\n",
    "$$\n",
    "\\vec{p}^{(t + 1)} = \\vec{p}^{(t)} \\mathbf{PS}\n",
    "$$\n",
    "\n",
    "where P and S are probabalistic transition matrices. The entry $\\mathbf{P}_{i,j}$ describes the probability of cell with $i$ sides will become a cell with $j$ sides after cell division. The shift matrix $\\mathbf{S}$ comes from a topological argument that cells will, on average, **gain** one side from the division of neighboring cells. THe shift matrix is therefore defined only on the diagonal with $0$ and $1$. \n",
    "\n",
    "Therefore, given a distribution of polygonal cell types $\\vec{p}^{(t)}$,we can compute the new distribution after a single round of division.\n"
   ]
  },
  {
   "cell_type": "code",
   "execution_count": 24,
   "metadata": {},
   "outputs": [
    {
     "name": "stderr",
     "output_type": "stream",
     "text": [
      "/anaconda3/lib/python3.6/site-packages/ipykernel_launcher.py:39: RuntimeWarning: divide by zero encountered in log\n"
     ]
    },
    {
     "data": {
      "image/png": "[encoded data removed]",
      "text/plain": [
       "<Figure size 432x432 with 3 Axes>"
      ]
     },
     "metadata": {
      "needs_background": "light"
     },
     "output_type": "display_data"
    }
   ],
   "source": [
    "# Define the parameters\n",
    "n_sides = 7 # Redifining index 0 as minimum 4 sides.\n",
    "n_gen = 10 \n",
    "\n",
    "# Set up the transition matrix and normalize. \n",
    "P = scipy.linalg.pascal(n_sides, exact=False, kind='lower')\n",
    "S = np.zeros_like(P)\n",
    "for i in range(n_sides - 1):\n",
    "    S[i, i+1] = 1\n",
    "for i in range(n_sides):\n",
    "    P[i, :] = P[i, :] / np.sum(P[i, :])\n",
    "\n",
    "    \n",
    "       \n",
    "# Generate the total subplots. \n",
    "fig, ax = plt.subplots(3, 1, figsize=(6, 6))\n",
    "for a in ax:\n",
    "    a.grid(False)\n",
    "    a.set_yticklabels(['', 4, 5, 6, 7, 8, 9, 10])\n",
    "    a.set_ylabel('number of sides')\n",
    "    a.set_xlabel('number of generations')\n",
    "\n",
    "inits = [0, 2, 6]\n",
    "for i, init in enumerate(inits):\n",
    "    # Define the probability and the intial condition.\n",
    "    prob = np.zeros((n_sides, n_gen))\n",
    "\n",
    "    # Set the initial condition. \n",
    "    prob[init, 0] = 1.0\n",
    "\n",
    "    # Loop through each generation\n",
    "    for t in range(1, n_gen):       \n",
    "        # Loop through\n",
    "        for j in range(1, n_sides - 1):\n",
    "            # Compute the probability of getting a vertex \n",
    "            prob[j, t] = np.sum(prob[:, t-1] * P[:, j-1])\n",
    "   \n",
    "    # Plot it on the correct axis. \n",
    "    ax[i].matshow(np.log(prob), cmap='viridis')\n",
    " \n",
    "plt.tight_layout()\n",
    "plt.savefig('gibson_butter.png', dpi=300, bbox_inches='tight')"
   ]
  },
  {
   "cell_type": "code",
   "execution_count": 233,
   "metadata": {},
   "outputs": [
    {
     "data": {
      "text/plain": [
       "array([0.        , 0.27623794, 0.44523786, 0.20170003, 0.03532069,\n",
       "       0.0027103 , 0.        ])"
      ]
     },
     "execution_count": 233,
     "metadata": {},
     "output_type": "execute_result"
    }
   ],
   "source": [
    "prob[:, -1]"
   ]
  },
  {
   "cell_type": "code",
   "execution_count": null,
   "metadata": {},
   "outputs": [],
   "source": []
  }
 ],
 "metadata": {
  "kernelspec": {
   "display_name": "Python 3",
   "language": "python",
   "name": "python3"
  },
  "language_info": {
   "codemirror_mode": {
    "name": "ipython",
    "version": 3
   },
   "file_extension": ".py",
   "mimetype": "text/x-python",
   "name": "python",
   "nbconvert_exporter": "python",
   "pygments_lexer": "ipython3",
   "version": "3.6.6"
  }
 },
 "nbformat": 4,
 "nbformat_minor": 2
}
