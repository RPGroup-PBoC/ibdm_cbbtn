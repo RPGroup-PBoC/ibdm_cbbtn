{
 "cells": [
  {
   "cell_type": "markdown",
   "metadata": {},
   "source": [
    "#  Numerically Integrating Exponential Growth\n",
    "\n",
    "© 2018 Griffin Chure. This work is licensed under a [Creative Commons Attribution License CC-BY 4.0](https://creativecommons.org/licenses/by/4.0/). All code contained herein is licensed under an [MIT license](https://opensource.org/licenses/MIT).\n",
    "\n",
    "---"
   ]
  },
  {
   "cell_type": "code",
   "execution_count": 24,
   "metadata": {},
   "outputs": [],
   "source": [
    "import numpy as np # For numerics\n",
    "import matplotlib.pyplot as plt # To make plots\n",
    "import seaborn as sns # To make plots look much better\n",
    "sns.set()\n",
    "# Allows matplotlib plots to render in Python 3.6 and below\n",
    "%matplotlib inline "
   ]
  },
  {
   "cell_type": "markdown",
   "metadata": {},
   "source": [
    "In this tutorial, we will explore exponential growth through numerical integration -- a handy technique for numerically evaluating differential equations."
   ]
  },
  {
   "cell_type": "markdown",
   "metadata": {},
   "source": [
    "## Revisiting bacterial growth"
   ]
  },
  {
   "cell_type": "markdown",
   "metadata": {},
   "source": [
    "In class, we used some simple back-of-the-envelope estimates to figure out what sets the speed limit for bacterial growth. When the dust settled, we XXX\n",
    "\n",
    "Throughout the course, we will repeatedly mathematize our thinking using differential equations. For example, we can write a differential equation for a growing bacterial culture as \n",
    "\n",
    "$$\n",
    "{dN \\over dt} = r N(t) \\tag{1},\n",
    "$$\n",
    "\n",
    "where $N$ is the the number of cells, $t$ is time (in whatever units we deem appropriate), and $r$ is the rate of bacterial growth. This differential equation can be very easily solved for $N(t)$ as\n",
    "\n",
    "$$\n",
    "N(t) = N_0 e^{rt} \\tag{2},\n",
    "$$\n",
    "\n",
    "where $N_0$ is the intial number of starting cells. While getting to this result is relatively simple, this will certainly not be the case for every differential equation we write! It some cases, there may not even be a closed form solution. To solve such equations, we will have to turn to our computers to do the work for us. \n",
    "\n",
    "## The Forward-Euler Algorithm\n",
    "\n",
    "There are seemingly countless numerical integrators available to you in nearly all computer programming languages. The simplest and easiest to code (although it has some limitations) is the Forward-Euler method. In this approach, we take very small steps forward in time, calculate the change in our quantity of interest, and then add that change to our result from the previous time step. \n",
    "\n",
    "Let's look back at Eq. 1, but rewrite it in a different way. We can say that the number of cells present at some time $t + \\Delta t$ is\n",
    "\n",
    "$$\n",
    "N(t + \\Delta t) = N(t) + r N(t) \\Delta t. \\tag{3}\n",
    "$$\n",
    "\n",
    "If we taking yet another step forward in time could similarly be stated as\n",
    "\n",
    "$$\n",
    "N(t + 2\\Delta r) = N(t + \\Delta t) + r N(t) \\Delta t. \\tag{4}\n",
    "$$\n",
    "\n",
    "At each time step, we are simply adding the number of cells added in that interval $\\Delta t$ as was defined in our initial differential equation. \n",
    "\n",
    "But how do we choose our time step? For this approach to work, we must take steps forward in time that are sufficiently small such that no more than one event described in our model can take place. In the context of exponential growth, for example, we would not want to take steps forward in time that are larger than the growth rate where multiple divisions could occur. This requirement, known as the [Courant-Friedrichs-Lewy condition](https://en.wikipedia.org/wiki/Courant%E2%80%93Friedrichs%E2%80%93Lewy_condition) is important for many types of time-marching computer simulations."
   ]
  },
  {
   "cell_type": "markdown",
   "metadata": {},
   "source": [
    "## Shut up and code!"
   ]
  },
  {
   "cell_type": "markdown",
   "metadata": {},
   "source": [
    "Let's put our euros where our mouth is and code up this integrator for the case of simple exponential growth. Before we jump right in we need to define some parameters first. We'll start with the biologically meaningful parameters. "
   ]
  },
  {
   "cell_type": "code",
   "execution_count": 2,
   "metadata": {},
   "outputs": [],
   "source": [
    "# Define parameters for the exponential growth\n",
    "N_0 = 1 # Initial number of cells \n",
    "r = 0.03 # Growth rate of cells in generations per minute\n",
    "total_time = 150 # Total time of the integration in minutes."
   ]
  },
  {
   "cell_type": "markdown",
   "metadata": {},
   "source": [
    "We now need to set the the time step for our integrator. We'll start with a sufficiently small time step that will give proper integration, but not too small as to seriously slow down our computers "
   ]
  },
  {
   "cell_type": "code",
   "execution_count": 9,
   "metadata": {},
   "outputs": [],
   "source": [
    "# Define parameters for the numerical integrator\n",
    "delta_t = 0.1 # time step in minutes\n",
    "n_time_steps = int(total_time / delta_t) # Number of time steps for the integration"
   ]
  },
  {
   "cell_type": "markdown",
   "metadata": {},
   "source": [
    "In the above code cell, we defined the size of our time step and figured out how many we will need to take given the total time of our experiment. While `n_time_steps` is an integer quantity (you can't have 1.3 steps!), simply dividing `total_time` by `delta_t` would result in a floating point number. By adding `int(...)`, I have forced the result to be an integer which will prove be important for us shortly. \n",
    "\n",
    "We now have just about everything we need to begin our integration. The one last things we need to do is set our initial condition and then loop through all of the time steps. As we would like to keep track of the number of cells as a function of time, we'll make a vector full of zeros that has the same length as `n_time_steps`."
   ]
  },
  {
   "cell_type": "code",
   "execution_count": 10,
   "metadata": {},
   "outputs": [],
   "source": [
    "# Set up the empty vector where we will store the number of cells at time t.\n",
    "N_t = np.zeros(n_time_steps)\n",
    "\n",
    "# Set the initial condition by indexing the array. \n",
    "N_t[0] = N_0"
   ]
  },
  {
   "cell_type": "markdown",
   "metadata": {},
   "source": [
    "We're now ready to do the integration! Starting at the second time point (index `1`), we'll calculate how many cells were added in a single time step and update our storage vector `N_t`. "
   ]
  },
  {
   "cell_type": "code",
   "execution_count": 11,
   "metadata": {},
   "outputs": [],
   "source": [
    "# Loop through each time step\n",
    "# We say range(1, N) instead of range(N) to begin at index 1\n",
    "for t in range(1, n_time_steps): \n",
    "    \n",
    "    # Calculate the change in the number of cells. \n",
    "    dN = N_t[t - 1] * r * delta_t\n",
    "    \n",
    "    # Update the number of cells at the current time point\n",
    "    N_t[t] = N_t[t - 1] + dN    "
   ]
  },
  {
   "cell_type": "markdown",
   "metadata": {},
   "source": [
    "And that's it! Because of the simplicity of this problem, this code should run almost instantaneously on your machine. Let's plot our result to see if we got exponential growth out of it all."
   ]
  },
  {
   "cell_type": "code",
   "execution_count": 28,
   "metadata": {},
   "outputs": [
    {
     "data": {
      "text/plain": [
       "<matplotlib.legend.Legend at 0x1a1651b240>"
      ]
     },
     "execution_count": 28,
     "metadata": {},
     "output_type": "execute_result"
    },
    {
     "data": {
      "image/png": "[encoded data removed]",
      "text/plain": [
       "<Figure size 432x288 with 1 Axes>"
      ]
     },
     "metadata": {
      "needs_background": "light"
     },
     "output_type": "display_data"
    }
   ],
   "source": [
    "# Set up the time array for the x axis\n",
    "# np.arange will arrange numbers from 0 to the total time, taking steps of dt\n",
    "time_range = np.arange(0, total_time, delta_t)\n",
    "\n",
    "# Plot our calculation as a blue line\n",
    "plt.plot(time_range, N_t, 'b-', label='numerical integration')\n",
    "\n",
    "# Add an appropriate label and legend\n",
    "plt.xlabel('time [min]')\n",
    "plt.ylabel('number of cells')\n",
    "plt.legend()"
   ]
  },
  {
   "cell_type": "markdown",
   "metadata": {},
   "source": [
    "What a relief! We've been able to numerically integrate Eq. 1 by hand. To ensure that we get the correct result, we can plot a subset of points from the numerical integration over our analytical solution in Eq. 2. "
   ]
  },
  {
   "cell_type": "code",
   "execution_count": 30,
   "metadata": {},
   "outputs": [
    {
     "data": {
      "text/plain": [
       "<matplotlib.legend.Legend at 0x1a16f975f8>"
      ]
     },
     "execution_count": 30,
     "metadata": {},
     "output_type": "execute_result"
    },
    {
     "data": {
      "image/png": "[encoded data removed]",
      "text/plain": [
       "<Figure size 432x288 with 1 Axes>"
      ]
     },
     "metadata": {
      "needs_background": "light"
     },
     "output_type": "display_data"
    }
   ],
   "source": [
    "# Compute the analytical solution.\n",
    "solution = N_0 * np.exp(r * time_range)\n",
    "\n",
    "# Plot every 50 points from the numerical integration.\n",
    "plt.plot(time_range[::50], N_t[::50], 'bo', label='numerical integration')\n",
    "\n",
    "# Plot the analytical solution as a red line. \n",
    "plt.plot(time_range, solution, 'r-', label='analytical solution')\n",
    "\n",
    "# Add appropriate labels. \n",
    "plt.xlabel('time [min]')\n",
    "plt.ylabel('number of cells')\n",
    "plt.legend()"
   ]
  },
  {
   "cell_type": "markdown",
   "metadata": {},
   "source": [
    "It looks like our simple numerical integrator works as advertised and converges to the analytical result. Of course, you can not always use this as a sanity check as you often won't have the analytical solution. "
   ]
  },
  {
   "cell_type": "markdown",
   "metadata": {},
   "source": [
    "###  Breaking the CFL Condition"
   ]
  },
  {
   "cell_type": "markdown",
   "metadata": {},
   "source": [
    "As mentioned earlier, the stability of this method depends entirely on us taking a short enough time step such that we only observe at most one event. Let's now try to break that  by taking a longer time step, say `delta_t = 10`. "
   ]
  },
  {
   "cell_type": "code",
   "execution_count": 39,
   "metadata": {},
   "outputs": [],
   "source": [
    "# Set the new parameters\n",
    "delta_t_long = 10 \n",
    "n_time_steps_long = int(total_time / delta_t_long)\n",
    "\n",
    "# Set the storage vector so we don't rewrite our correct approach\n",
    "N_t_long = np.zeros(n_time_steps_long)\n",
    "N_t_long[0] = N_0\n",
    "\n",
    "# Loop through each time step\n",
    "for t in range(1, n_time_steps_long): \n",
    "    \n",
    "    # Calculate the change in the number of cells. \n",
    "    dN = N_t_long[t - 1] * r * delta_t_long\n",
    "    \n",
    "    # Update the number of cells at the current time point\n",
    "    N_t_long[t] = N_t_long[t - 1] + dN    "
   ]
  },
  {
   "cell_type": "markdown",
   "metadata": {},
   "source": [
    "To see the failure, we can plot it along side our analytical solution. "
   ]
  },
  {
   "cell_type": "code",
   "execution_count": 40,
   "metadata": {},
   "outputs": [
    {
     "data": {
      "text/plain": [
       "<matplotlib.legend.Legend at 0x1a172e3e10>"
      ]
     },
     "execution_count": 40,
     "metadata": {},
     "output_type": "execute_result"
    },
    {
     "data": {
      "image/png": "[encoded data removed]",
      "text/plain": [
       "<Figure size 432x288 with 1 Axes>"
      ]
     },
     "metadata": {
      "needs_background": "light"
     },
     "output_type": "display_data"
    }
   ],
   "source": [
    "# Plot the analytical solution\n",
    "plt.plot(time_range, solution, 'r-', label='analytical solution')\n",
    "\n",
    "# Plot every fifth point from the long time step integration\n",
    "time_range_long = np.arange(0, total_time, delta_t_long)\n",
    "plt.plot(time_range_long, N_t_long, 'go', label='Δt = 10 min')\n",
    "\n",
    "# Add labels as usual\n",
    "plt.xlabel('time [min]')\n",
    "plt.ylabel('number of cells')\n",
    "plt.legend()"
   ]
  },
  {
   "cell_type": "markdown",
   "metadata": {},
   "source": [
    "We see here that fir the first few points, our numerical integration is noticably different from the analytical solution, revealing that our time step was too long. Before you launch an integration yourself, be sure to take time and think carefully about the parameters you have fed in! "
   ]
  },
  {
   "cell_type": "markdown",
   "metadata": {},
   "source": [
    "## Exercise: The Logistic Growth Equation "
   ]
  },
  {
   "cell_type": "markdown",
   "metadata": {},
   "source": [
    "While the result from Eq. 1 seems logical, it is only valid for a limited time scale. Without some kind of feedback, this growth law states that cells would continue to grow exponentially *forever*. However, we know that the cells have some limitations, whether it be the availability of carbon or the space available for new cells to grow into. Such restrictions put a limit on the maximal number of cells that can inhabit a given environement. This limit, known as the [carrying capacity]() of the ecosystem, can be included into our growth equation as \n",
    "\n",
    "$$\n",
    "{dN \\over dt} = rN(t)\\left(1 - {N(t) \\over K}\\right) \\tag{5},\n",
    "$$\n",
    "\n",
    "where we've introduced $K$ as the carrying capacity. From looking at this equation, we can see that as the total number of cells gets closer and closer to $K$, the number of cells added during a particular time step gets smaller and smaller. This is a much more physically satisfying result. \n",
    "\n",
    "Without looking at the code block below, take a few minutes to try and numerically integrate this equation. Choose a few numbers for the carrying capacity and note how it changes your integration."
   ]
  },
  {
   "cell_type": "code",
   "execution_count": 62,
   "metadata": {},
   "outputs": [],
   "source": [
    "# Set the carrying capacity:\n",
    "K = [75, 1.5E2, 3E2]\n",
    "\n",
    "# Extend the total time of the integration\n",
    "total_time = 500\n",
    "time_range = np.arange(0, total_time, delta_t)\n",
    "\n",
    "# Set the storage vector so we don't rewrite our correct approach\n",
    "N_t = np.zeros((len(K), n_time_steps))\n",
    "N_t[:, 0] = N_0\n",
    "\n",
    "# Loop through each carrying capacity\n",
    "for k in range(len(K)): \n",
    "    \n",
    "    # Loop through each time step.\n",
    "    for t in range(1, n_time_steps): \n",
    "    \n",
    "        # Calculate the change in the number of cells. \n",
    "        dN = N_t[k, t - 1] * r * delta_t * (1 - N_t[k, t - 1] / K[k])\n",
    "    \n",
    "        # Update the number of cells at the current time point\n",
    "        N_t[k, t] = N_t[k, t - 1] + dN\n",
    "         \n",
    "        "
   ]
  },
  {
   "cell_type": "code",
   "execution_count": 63,
   "metadata": {},
   "outputs": [
    {
     "data": {
      "text/plain": [
       "<matplotlib.legend.Legend at 0x1a178f6f60>"
      ]
     },
     "execution_count": 63,
     "metadata": {},
     "output_type": "execute_result"
    },
    {
     "data": {
      "image/png": "[encoded data removed]",
      "text/plain": [
       "<Figure size 432x288 with 1 Axes>"
      ]
     },
     "metadata": {
      "needs_background": "light"
     },
     "output_type": "display_data"
    }
   ],
   "source": [
    "# Loop through the carrying capacities and plot every 50th point.\n",
    "for i in range(len(K)):\n",
    "    plt.plot(time_range[::50], N_t[i, ::50], '.', label='K = ' + str(K[i]))\n",
    "    \n",
    "# Add appropriate labels and legends. \n",
    "plt.xlabel('time  [min]')\n",
    "plt.ylabel('number of cells')\n",
    "plt.legend()"
   ]
  }
 ],
 "metadata": {
  "kernelspec": {
   "display_name": "Python 3",
   "language": "python",
   "name": "python3"
  },
  "language_info": {
   "codemirror_mode": {
    "name": "ipython",
    "version": 3
   },
   "file_extension": ".py",
   "mimetype": "text/x-python",
   "name": "python",
   "nbconvert_exporter": "python",
   "pygments_lexer": "ipython3",
   "version": "3.6.6"
  }
 },
 "nbformat": 4,
 "nbformat_minor": 2
}
