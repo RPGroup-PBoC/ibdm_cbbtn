{
 "cells": [
  {
   "cell_type": "markdown",
   "metadata": {},
   "source": [
    "# Tutorial 2A: Simulating Diffusion Across A Synapse\n",
    "\n",
    "© 2018 Griffin Chure. This work is licensed under a [Creative Commons Attribution License CC-BY 4.0](https://creativecommons.org/licenses/by/4.0/). All code contained herein is licensed under an [MIT license](https://opensource.org/licenses/MIT) \n",
    "\n",
    "---"
   ]
  },
  {
   "cell_type": "code",
   "execution_count": 17,
   "metadata": {},
   "outputs": [],
   "source": [
    "import numpy as np # For numerics\n",
    "import matplotlib.pyplot as plt # Our plotting library\n",
    "import seaborn as sns # To make plots look nicer\n",
    "sns.set()\n",
    "sns.set_context('talk') \n",
    "# Needed to render plots in Python 3.6 and below\n",
    "%matplotlib inline "
   ]
  },
  {
   "cell_type": "code",
   "execution_count": 7,
   "metadata": {},
   "outputs": [
    {
     "data": {
      "text/plain": [
       "112"
      ]
     },
     "execution_count": 7,
     "metadata": {},
     "output_type": "execute_result"
    }
   ],
   "source": [
    "length = 10\n",
    "steps_needed = 0\n",
    "n_steps = 0\n",
    "step_length = 1\n",
    "position = 0\n",
    "while steps_needed == 0:\n",
    "    if position == length:\n",
    "        steps_needed = n_steps\n",
    "    elif position == 0:\n",
    "        position += step_length\n",
    "        n_steps += 1\n",
    "    else:\n",
    "        # Flip a coin.\n",
    "        flip = np.random.rand()\n",
    "        if flip < 0.5:\n",
    "            position += 1\n",
    "        else:\n",
    "            position -= 1\n",
    "        n_steps += 1\n",
    "n_steps "
   ]
  },
  {
   "cell_type": "code",
   "execution_count": 14,
   "metadata": {},
   "outputs": [],
   "source": [
    "def synapse_crossing(synapse_length, step_length):\n",
    "    \"\"\"Measures the number of steps needed to diffuse across a synapse\"\"\" \n",
    "    # Instantiate our counters\n",
    "    n_steps = 0\n",
    "    position = 0\n",
    "    steps_needed = 0\n",
    "    # While we are not at the receptor\n",
    "    while steps_needed == 0:\n",
    "        \n",
    "        # If we reached the receptor at the last step, save it\n",
    "        if position == length:\n",
    "            steps_needed = n_steps\n",
    "        # If we are back at the releasing neuron, only take a step forward\n",
    "        elif position == 0:\n",
    "            position += step_length\n",
    "            \n",
    "            # Update the number of steps we've taken.\n",
    "            n_steps += 1\n",
    "        # Otherwise, flip a coin and choose which way to go\n",
    "        else:\n",
    "            # Flip a coin.\n",
    "            flip = np.random.rand()\n",
    "            \n",
    "            # Test if it's heads or tails and update position\n",
    "            if flip < 0.5:\n",
    "                position += 1\n",
    "            else:\n",
    "                position -= 1\n",
    "            # Update the number of steps we've taken.\n",
    "            n_steps += 1\n",
    "     # At the end of the simulation, return the number of steps.\n",
    "    return n_steps"
   ]
  },
  {
   "cell_type": "code",
   "execution_count": 22,
   "metadata": {},
   "outputs": [],
   "source": [
    "# Run the simulation over and over again. \n",
    "n_sim = 50000\n",
    "n_steps = np.zeros(n_sim)\n",
    "for i in range(n_sim):\n",
    "    # Run the simulation.\n",
    "    n_steps[i] = synapse_crossing(length, step_length)\n"
   ]
  },
  {
   "cell_type": "code",
   "execution_count": 23,
   "metadata": {},
   "outputs": [
    {
     "data": {
      "image/png": "[encoded data removed]",
      "text/plain": [
       "<Figure size 432x288 with 1 Axes>"
      ]
     },
     "metadata": {
      "needs_background": "light"
     },
     "output_type": "display_data"
    }
   ],
   "source": [
    "# Plot the distribution. \n",
    "_ = plt.hist(n_steps, bins=50)"
   ]
  },
  {
   "cell_type": "code",
   "execution_count": null,
   "metadata": {},
   "outputs": [],
   "source": []
  }
 ],
 "metadata": {
  "kernelspec": {
   "display_name": "Python 3",
   "language": "python",
   "name": "python3"
  },
  "language_info": {
   "codemirror_mode": {
    "name": "ipython",
    "version": 3
   },
   "file_extension": ".py",
   "mimetype": "text/x-python",
   "name": "python",
   "nbconvert_exporter": "python",
   "pygments_lexer": "ipython3",
   "version": "3.6.6"
  }
 },
 "nbformat": 4,
 "nbformat_minor": 2
}
